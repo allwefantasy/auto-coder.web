{
 "cells": [
  {
   "cell_type": "markdown",
   "metadata": {},
   "source": [
    "# Terminal Module Tests\n",
    "\n",
    "This notebook tests the functionality of the `terminal.py` module. We'll cover:\n",
    "\n",
    "1. Creating a terminal session\n",
    "2. Executing commands\n",
    "3. Reading output\n",
    "4. Deleting a session\n",
    "5. Error handling"
   ]
  },
  {
   "cell_type": "code",
   "execution_count": null,
   "metadata": {},
   "source": [
    "import sys\n",
    "import os\n",
    "\n",
    "# Add the project root to Python path\n",
    "project_root = os.path.abspath(os.path.join(os.getcwd(), '..'))\n",
    "if project_root not in sys.path:\n",
    "    sys.path.append(project_root)\n",
    "\n",
    "from src.auto_coder_web.terminal import TerminalSession, TerminalManager"
   ]
  },
  {
   "cell_type": "markdown",
   "metadata": {},
   "source": [
    "## 1. Testing Terminal Session Creation"
   ]
  },
  {
   "cell_type": "code",
   "execution_count": null,
   "metadata": {},
   "source": [
    "# Create a terminal manager instance\n",
    "manager = TerminalManager()\n",
    "\n",
    "# Create a new session\n",
    "session_id = manager.create_session()\n",
    "print(f\"Created session with ID: {session_id}\")\n",
    "\n",
    "# Get the session\n",
    "session = manager.get_session(session_id)\n",
    "print(f\"Session working directory: {session.working_directory}\")"
   ]
  },
  {
   "cell_type": "markdown",
   "metadata": {},
   "source": [
    "## 2. Testing Basic Commands"
   ]
  },
  {
   "cell_type": "code",
   "execution_count": null,
   "metadata": {},
   "source": [
    "# Test simple echo command\n",
    "manager.execute_command(session_id, \"echo 'Hello from terminal'\")\n",
    "output = manager.get_output(session_id)\n",
    "print(\"Echo command output:\", output)"
   ]
  },
  {
   "cell_type": "markdown",
   "metadata": {},
   "source": [
    "## 3. Testing Directory Navigation"
   ]
  },
  {
   "cell_type": "code",
   "execution_count": null,
   "metadata": {},
   "source": [
    "# Test cd command\n",
    "manager.execute_command(session_id, \"cd /tmp\")\n",
    "session = manager.get_session(session_id)\n",
    "print(f\"New working directory: {session.working_directory}\")\n",
    "\n",
    "# Test pwd command\n",
    "manager.execute_command(session_id, \"pwd\")\n",
    "output = manager.get_output(session_id)\n",
    "print(\"PWD output:\", output)"
   ]
  },
  {
   "cell_type": "markdown",
   "metadata": {},
   "source": [
    "## 4. Testing Command History"
   ]
  },
  {
   "cell_type": "code",
   "execution_count": null,
   "metadata": {},
   "source": [
    "# Execute a few commands\n",
    "commands = [\"ls\", \"date\", \"whoami\"]\n",
    "for cmd in commands:\n",
    "    manager.execute_command(session_id, cmd)\n",
    "    output = manager.get_output(session_id)\n",
    "    print(f\"Command '{cmd}' output:\", output)\n",
    "\n",
    "# Check command history\n",
    "session = manager.get_session(session_id)\n",
    "print(\"\\nCommand history:\")\n",
    "for cmd in session.command_history:\n",
    "    print(f\"- {cmd}\")"
   ]
  },
  {
   "cell_type": "markdown",
   "metadata": {},
   "source": [
    "## 5. Testing Error Handling"
   ]
  },
  {
   "cell_type": "code",
   "execution_count": null,
   "metadata": {},
   "source": [
    "# Test invalid command\n",
    "manager.execute_command(session_id, \"invalidcommand\")\n",
    "output = manager.get_output(session_id)\n",
    "print(\"Invalid command output:\", output)\n",
    "\n",
    "# Test cd to non-existent directory\n",
    "manager.execute_command(session_id, \"cd /nonexistent/directory\")\n",
    "output = manager.get_output(session_id)\n",
    "print(\"Invalid cd output:\", output)"
   ]
  },
  {
   "cell_type": "markdown",
   "metadata": {},
   "source": [
    "## 6. Testing Session Cleanup"
   ]
  },
  {
   "cell_type": "code",
   "execution_count": null,
   "metadata": {},
   "source": [
    "# Delete the session\n",
    "manager.delete_session(session_id)\n",
    "\n",
    "# Try to get the deleted session\n",
    "deleted_session = manager.get_session(session_id)\n",
    "print(\"Deleted session:\", deleted_session)  # Should be None\n",
    "\n",
    "# Try to get output from deleted session\n",
    "output = manager.get_output(session_id)\n",
    "print(\"Output from deleted session:\", output)  # Should be None"
   ]
  },
  {
   "cell_type": "markdown",
   "metadata": {},
   "source": [
    "## 7. Testing Long-Running Commands"
   ]
  },
  {
   "cell_type": "code",
   "execution_count": null,
   "metadata": {},
   "source": [
    "# Create a new session for long-running command test\n",
    "session_id = manager.create_session()\n",
    "\n",
    "# Execute a command that produces output over time\n",
    "manager.execute_command(session_id, \"for i in {1..5}; do echo $i; sleep 1; done\")\n",
    "\n",
    "# Read output multiple times to demonstrate streaming\n",
    "for _ in range(6):\n",
    "    output = manager.get_output(session_id)\n",
    "    if output:\n",
    "        print(\"Received output:\", output)\n",
    "    import time\n",
    "    time.sleep(1)\n",
    "\n",
    "# Cleanup\n",
    "manager.delete_session(session_id)"
   ]
  }
 ],
 "metadata": {
  "kernelspec": {
   "display_name": "Python 3",
   "language": "python",
   "name": "python3"
  },
  "language_info": {
   "codemirror_mode": {
    "name": "ipython",
    "version": 3
   },
   "file_extension": ".py",
   "mimetype": "text/x-python",
   "name": "python",
   "nbconvert_exporter": "python",
   "pygments_lexer": "ipython3",
   "version": "3.8.0"
  }
 },
 "nbformat": 4,
 "nbformat_minor": 2
}